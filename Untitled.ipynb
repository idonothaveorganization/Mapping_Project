{
 "cells": [
  {
   "cell_type": "code",
   "execution_count": 3,
   "metadata": {},
   "outputs": [],
   "source": [
    "# load required packages\n",
    "import networkx as nx\n",
    "import osmnx as ox\n",
    "import pandas as pd\n",
    "import numpy as np\n",
    "import folium\n",
    "import geopy.distance\n",
    "import random\n",
    "from IPython.display import IFrame\n",
    "ox.config(log_console=True, use_cache=True)"
   ]
  },
  {
   "cell_type": "code",
   "execution_count": 4,
   "metadata": {},
   "outputs": [],
   "source": [
    "# import the graph\n",
    "filepath = 'champaign_processed.graphml'\n",
    "G = ox.load_graphml(filepath)\n",
    "for i in G.nodes:\n",
    "    Neighbour = list(G.neighbors(i))\n",
    "    for item in Neighbour:\n",
    "        route = nx.shortest_path_length(G,i,item,weight = 'length')\n",
    "        if route <=10 and G.nodes[i]['pop_score_block'] != -1:\n",
    "            G.nodes[item]['pop_score_block'] = -1\n",
    " #change data types of some attributes\n",
    "DePop = []\n",
    "for i in G.nodes:\n",
    "    if G.nodes[i]['pop_score_block'] == -1:\n",
    "        G.nodes[i]['pop_score_block'] = 0\n",
    "        DePop.append(i)\n",
    "for _,data in G.nodes(data=True):\n",
    "    data['pop_score_tract'] = float(data['pop_score_tract'])\n",
    "    data['pop_score_block'] = float(data['pop_score_block'])    "
   ]
  },
  {
   "cell_type": "code",
   "execution_count": null,
   "metadata": {},
   "outputs": [],
   "source": []
  }
 ],
 "metadata": {
  "kernelspec": {
   "display_name": "Python 3",
   "language": "python",
   "name": "python3"
  },
  "language_info": {
   "codemirror_mode": {
    "name": "ipython",
    "version": 3
   },
   "file_extension": ".py",
   "mimetype": "text/x-python",
   "name": "python",
   "nbconvert_exporter": "python",
   "pygments_lexer": "ipython3",
   "version": "3.8.3"
  }
 },
 "nbformat": 4,
 "nbformat_minor": 4
}
