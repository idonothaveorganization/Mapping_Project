{
 "cells": [
  {
   "cell_type": "code",
   "execution_count": 1,
   "metadata": {},
   "outputs": [
    {
     "ename": "ModuleNotFoundError",
     "evalue": "No module named 'osmnx'",
     "output_type": "error",
     "traceback": [
      "\u001b[1;31m---------------------------------------------------------------------------\u001b[0m",
      "\u001b[1;31mModuleNotFoundError\u001b[0m                       Traceback (most recent call last)",
      "\u001b[1;32m<ipython-input-1-3880f11b9db4>\u001b[0m in \u001b[0;36m<module>\u001b[1;34m\u001b[0m\n\u001b[0;32m      1\u001b[0m \u001b[1;31m# load required packages\u001b[0m\u001b[1;33m\u001b[0m\u001b[1;33m\u001b[0m\u001b[1;33m\u001b[0m\u001b[0m\n\u001b[0;32m      2\u001b[0m \u001b[1;32mimport\u001b[0m \u001b[0mnetworkx\u001b[0m \u001b[1;32mas\u001b[0m \u001b[0mnx\u001b[0m\u001b[1;33m\u001b[0m\u001b[1;33m\u001b[0m\u001b[0m\n\u001b[1;32m----> 3\u001b[1;33m \u001b[1;32mimport\u001b[0m \u001b[0mosmnx\u001b[0m \u001b[1;32mas\u001b[0m \u001b[0mox\u001b[0m\u001b[1;33m\u001b[0m\u001b[1;33m\u001b[0m\u001b[0m\n\u001b[0m\u001b[0;32m      4\u001b[0m \u001b[1;32mimport\u001b[0m \u001b[0mpandas\u001b[0m \u001b[1;32mas\u001b[0m \u001b[0mpd\u001b[0m\u001b[1;33m\u001b[0m\u001b[1;33m\u001b[0m\u001b[0m\n\u001b[0;32m      5\u001b[0m \u001b[1;32mimport\u001b[0m \u001b[0mnumpy\u001b[0m \u001b[1;32mas\u001b[0m \u001b[0mnp\u001b[0m\u001b[1;33m\u001b[0m\u001b[1;33m\u001b[0m\u001b[0m\n",
      "\u001b[1;31mModuleNotFoundError\u001b[0m: No module named 'osmnx'"
     ]
    }
   ],
   "source": [
    "# load required packages\n",
    "import networkx as nx\n",
    "import osmnx as ox\n",
    "import pandas as pd\n",
    "import numpy as np\n",
    "import folium\n",
    "import geopy.distance\n",
    "import random\n",
    "from IPython.display import IFrame\n",
    "ox.config(log_console=True, use_cache=True)"
   ]
  },
  {
   "cell_type": "code",
   "execution_count": null,
   "metadata": {},
   "outputs": [],
   "source": [
    "# import the graph\n",
    "filepath = 'champaign_processed.graphml'\n",
    "G = ox.load_graphml(filepath)\n",
    "for i in G.nodes:\n",
    "    Neighbour = list(G.neighbors(i))\n",
    "    for item in Neighbour:\n",
    "        route = nx.shortest_path_length(G,i,item,weight = 'length')\n",
    "        if route <=10 and G.nodes[i]['pop_score_block'] != -1:\n",
    "            G.nodes[item]['pop_score_block'] = -1\n",
    " #change data types of some attributes\n",
    "DePop = []\n",
    "for i in G.nodes:\n",
    "    if G.nodes[i]['pop_score_block'] == -1:\n",
    "        G.nodes[i]['pop_score_block'] = 0\n",
    "        DePop.append(i)\n",
    "for _,data in G.nodes(data=True):\n",
    "    data['pop_score_tract'] = float(data['pop_score_tract'])\n",
    "    data['pop_score_block'] = float(data['pop_score_block'])    "
   ]
  },
  {
   "cell_type": "code",
   "execution_count": null,
   "metadata": {},
   "outputs": [],
   "source": [
    "nx.is_strongly_connected(G) "
   ]
  },
  {
   "cell_type": "code",
   "execution_count": null,
   "metadata": {},
   "outputs": [],
   "source": [
    "# create a dictionary for all possible routs\n",
    "node_ID = list(G.nodes())\n",
    "path_lengths = dict(nx.all_pairs_dijkstra_path_length(G, weight='distance')) "
   ]
  },
  {
   "cell_type": "code",
   "execution_count": null,
   "metadata": {},
   "outputs": [],
   "source": [
    "# initialize by placing all facilities in the node with highest centriality\n",
    "extended_stats = ox.extended_stats(G, ecc=False, bc=True, cc=False)\n",
    "startN,dump = max(extended_stats['betweenness_centrality'].items(), key=lambda x: x[1])\n",
    "# start with all facility at startN\n",
    "# initialize a few parameters before running\n",
    "facility = startN \n",
    "score_old = 0"
   ]
  },
  {
   "cell_type": "code",
   "execution_count": null,
   "metadata": {},
   "outputs": [],
   "source": [
    "for i in node_ID:\n",
    "    path = path_lengths[facility][i]\n",
    "    score_old = score_old+path*G.nodes[i]['pop_score_block']\n",
    "score_old"
   ]
  },
  {
   "cell_type": "code",
   "execution_count": null,
   "metadata": {},
   "outputs": [],
   "source": [
    "# visualize initial input\n",
    "nc = ['r' if node in facility else 'w' for node in G.nodes()]\n",
    "ns = [80 if node in facility else 5 for node in G.nodes()]\n",
    "fig, ax = ox.plot_graph(G, node_size=ns, node_color=nc, node_zorder=2, bgcolor='k')"
   ]
  },
  {
   "cell_type": "code",
   "execution_count": null,
   "metadata": {},
   "outputs": [],
   "source": [
    "# loop through each facility, until there is no better score \n",
    "score_new = score_old-1\n",
    "count = 0\n",
    "while score_new < score_old:\n",
    "    score_old = score_new\n",
    "    count += 1\n",
    "    for i in range(1):\n",
    "        score_new = 0\n",
    "        neigh = list(G.neighbors(facility[i]))\n",
    "        temp = facility\n",
    "        TEMP_SCORE = []\n",
    "        for item in neigh:\n",
    "            temp_score = 0\n",
    "            temp[i] = item\n",
    "            for j in node_ID:\n",
    "                path = min([path_lengths[t][j] for t in temp])\n",
    "                temp_score = temp_score+path*G.nodes[j]['pop_score_block']\n",
    "            TEMP_SCORE.append(temp_score)\n",
    "        score_new = min(TEMP_SCORE)\n",
    "        step_dir = neigh[TEMP_SCORE.index(score_new)]\n",
    "        facility[i] = step_dir\n",
    "print(score_new)\n",
    "print(count)\n",
    "# Actual location of facilities\n",
    "print(facility)"
   ]
  }
 ],
 "metadata": {
  "kernelspec": {
   "display_name": "Python 3",
   "language": "python",
   "name": "python3"
  },
  "language_info": {
   "codemirror_mode": {
    "name": "ipython",
    "version": 3
   },
   "file_extension": ".py",
   "mimetype": "text/x-python",
   "name": "python",
   "nbconvert_exporter": "python",
   "pygments_lexer": "ipython3",
   "version": "3.7.6"
  }
 },
 "nbformat": 4,
 "nbformat_minor": 4
}
