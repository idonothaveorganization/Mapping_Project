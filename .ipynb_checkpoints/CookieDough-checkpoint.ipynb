{
 "cells": [
  {
   "cell_type": "code",
   "execution_count": 3,
   "metadata": {},
   "outputs": [],
   "source": [
    "# load required packages\n",
    "import networkx as nx\n",
    "import osmnx as ox\n",
    "import pandas as pd\n",
    "import numpy as np\n",
    "import folium\n",
    "import geopy.distance\n",
    "import random\n",
    "from IPython.display import IFrame\n",
    "ox.config(log_console=True, use_cache=True)\n",
    "# import the graph\n",
    "filepath = 'champaign_processed.graphml'\n",
    "G = ox.load_graphml(filepath)\n",
    "for i in G.nodes:\n",
    "    Neighbour = list(G.neighbors(i))\n",
    "    for item in Neighbour:\n",
    "        route = nx.shortest_path_length(G,i,item,weight = 'length')\n",
    "        if route <=10 and G.nodes[i]['pop_score_block'] != -1:\n",
    "            G.nodes[item]['pop_score_block'] = -1\n",
    " #change data types of some attributes\n",
    "DePop = []\n",
    "for i in G.nodes:\n",
    "    if G.nodes[i]['pop_score_block'] == -1:\n",
    "        G.nodes[i]['pop_score_block'] = 0\n",
    "        DePop.append(i)\n",
    "for _,data in G.nodes(data=True):\n",
    "    data['pop_score_tract'] = float(data['pop_score_tract'])\n",
    "    data['pop_score_block'] = float(data['pop_score_block'])    \n",
    "    "
   ]
  },
  {
   "cell_type": "code",
   "execution_count": 4,
   "metadata": {},
   "outputs": [
    {
     "data": {
      "text/plain": [
       "True"
      ]
     },
     "execution_count": 4,
     "metadata": {},
     "output_type": "execute_result"
    }
   ],
   "source": [
    "nx.is_strongly_connected(G) "
   ]
  },
  {
   "cell_type": "code",
   "execution_count": 5,
   "metadata": {},
   "outputs": [],
   "source": [
    "# create a dictionary for all possible routs\n",
    "node_ID = list(G.nodes())\n",
    "path_lengths = dict(nx.all_pairs_dijkstra_path_length(G, weight='distance')) "
   ]
  },
  {
   "cell_type": "code",
   "execution_count": 12,
   "metadata": {},
   "outputs": [
    {
     "name": "stdout",
     "output_type": "stream",
     "text": [
      "[[5865953255, 6883977362, 38013553, 7232272963, 7232272963], [5866327958, 5477025326, 37974769, 38003956, 6088669367]]\n"
     ]
    }
   ],
   "source": [
    "# or start with some random input\n",
    "facility1 = []\n",
    "facility2 = []\n",
    "for k in range(5):\n",
    "    facility1.append(random.choice(node_ID))\n",
    "    facility2.append(random.choice(node_ID))\n",
    "FACIL = [facility1,facility2]\n",
    "print(FACIL)"
   ]
  },
  {
   "cell_type": "code",
   "execution_count": 21,
   "metadata": {},
   "outputs": [
    {
     "data": {
      "text/plain": [
       "[11914.025479313843, 11113.31861755802]"
      ]
     },
     "execution_count": 21,
     "metadata": {},
     "output_type": "execute_result"
    }
   ],
   "source": [
    "SCORE_O = []\n",
    "for it in FACIL:\n",
    "    facility = it\n",
    "    score_old = 0\n",
    "    for i in node_ID:\n",
    "        path = min([path_lengths[j][i] for j in facility])\n",
    "        score_old = score_old+path*G.nodes[i]['pop_score_block']\n",
    "    SCORE_O.append(score_old)\n",
    "SCORE_O"
   ]
  },
  {
   "cell_type": "code",
   "execution_count": 15,
   "metadata": {},
   "outputs": [
    {
     "data": {
      "text/plain": [
       "[5866327958, 5477025326, 37974769, 38003956, 6088669367]"
      ]
     },
     "execution_count": 15,
     "metadata": {},
     "output_type": "execute_result"
    }
   ],
   "source": [
    "count = 0\n",
    "SCORE_N = [x-1 for x in SCORE_O]\n",
    "while FACIL[1]!=FACIL[2]:\n",
    "    count+=1\n",
    "    for facility in FACIL:\n",
    "        index = FACIL.index(facility)\n",
    "        score_new = SCORE_N[index]\n",
    "        score_old = SCORE_O[index]\n",
    "        while score_new < score_old:\n",
    "            score_old = score_new\n",
    "            for i in range(5):\n",
    "                score_new = 0 \n",
    "                "
   ]
  },
  {
   "cell_type": "code",
   "execution_count": 22,
   "metadata": {},
   "outputs": [
    {
     "data": {
      "text/plain": [
       "1"
      ]
     },
     "execution_count": 22,
     "metadata": {},
     "output_type": "execute_result"
    }
   ],
   "source": [
    "FACIL.index([5866327958, 5477025326, 37974769, 38003956, 6088669367])"
   ]
  },
  {
   "cell_type": "code",
   "execution_count": null,
   "metadata": {},
   "outputs": [],
   "source": []
  }
 ],
 "metadata": {
  "kernelspec": {
   "display_name": "Python 3",
   "language": "python",
   "name": "python3"
  },
  "language_info": {
   "codemirror_mode": {
    "name": "ipython",
    "version": 3
   },
   "file_extension": ".py",
   "mimetype": "text/x-python",
   "name": "python",
   "nbconvert_exporter": "python",
   "pygments_lexer": "ipython3",
   "version": "3.8.3"
  }
 },
 "nbformat": 4,
 "nbformat_minor": 4
}
