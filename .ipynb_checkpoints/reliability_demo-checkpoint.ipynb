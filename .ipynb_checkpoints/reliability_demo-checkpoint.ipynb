{
 "cells": [
  {
   "cell_type": "code",
   "execution_count": 59,
   "metadata": {},
   "outputs": [],
   "source": [
    "#load required packages\n",
    "import networkx as nx\n",
    "import osmnx as ox\n",
    "import pandas as pd\n",
    "import numpy as np\n",
    "import folium\n",
    "import scipy.stats as stats"
   ]
  },
  {
   "cell_type": "markdown",
   "metadata": {},
   "source": [
    "## Simple Demonstration of Reliability Measures"
   ]
  },
  {
   "cell_type": "markdown",
   "metadata": {},
   "source": [
    "In this notebook, we explain what reliability means in terms of travel time in urban road networks. We consider the map of Champaign-Urbana, consider a simple model for travel time distribution on different edges of the road network, generate synthetic data parameters for the travel time distribution, and finally measure the reliability of a route for a given travel time budget."
   ]
  },
  {
   "cell_type": "markdown",
   "metadata": {},
   "source": [
    "### Stochasticity of Travel Times\n",
    "\n",
    "In urban roads, travel times vary a lot due to a lot of factors such as varying traffic density, pedestrain crossings, etc. In such cases, it makes sense to model travel time on each edge as a random variable rather than a deterministic quantity. There are many ways we can model the travel time as a random variable, some of which consider the existing dependency between travel time of different edges. For now, we assume that the travel time between different edges are independent. \n",
    "\n",
    "We can obtain the distribution of the random variable modeling the travel time on an edge using collected data. For now, lets assume that the travel time on any edge can be modeled as a Gaussian random variable which is parametrized by a mean $\\mu$ and variance $\\sigma^2$. We can estimate the mean and variance from travel time samples on an edge. Note that, because of the independence assumption we made in the above paragraph, all these random variables are independent. \n",
    "\n",
    "There are a bunch of ways we could obtain raw data to estimate the $\\mu$ and $\\sigma^2$ of the travel time distribution on an edge. Some of them are not easy, and some other might not have data specific to Champaign Urbana. To get started, we generate synthetic data for mean and variance of travel time on each edge below and store it in the original networkx file."
   ]
  },
  {
   "cell_type": "code",
   "execution_count": 9,
   "metadata": {},
   "outputs": [],
   "source": [
    "## Import the CU data\n",
    "filepath = 'champaign_processed.graphml'\n",
    "G = ox.load_graphml(filepath)\n",
    "for _,data in G.nodes(data=True):\n",
    "    data['pop_score_tract'] = float(data['pop_score_tract'])\n",
    "    data['pop_score_block'] = float(data['pop_score_block'])    \n",
    "\n",
    "## Add travel time mean and variance on each edge\n",
    "for u,v,data in G.edges(data=True):\n",
    "    travel_time = data['travel_time']\n",
    "    data['traveltime_mean'] = travel_time\n",
    "    data['traveltime_var'] = 0.3*travel_time"
   ]
  },
  {
   "cell_type": "markdown",
   "metadata": {},
   "source": [
    "### Reliability of Travel Time\n",
    "\n",
    "For a given travel time budget $\\tau$, the reliability of a route $R$ from origin to destination can be given as the probability of reaching the destination within the given travel time budget using that route. Recall that we have distributions of travel time on individual edges and a route is basically a series of edges. Since we assumed that the random variables are independent, the travel time distribution of a route can be defined as the sum of random variables defining the travel time on the edges that constitute the route, $T_R = T_{e_1} + T_{e_2} + ... + T_{e_n}$. Given that we have independent Gaussian random variables modeling the travel time on each edge, the parameters of the travel time distribution of the route can be given as \n",
    "\n",
    "$$\n",
    "\\mu_R = \\mu_{e_1} + \\mu_{e_2} + ... + \\mu_{e_n}\n",
    "$$\n",
    "\n",
    "and \n",
    "\n",
    "$$\n",
    "\\sigma^2_R = \\sigma^2_{e_1} + \\sigma^2_{e_2} + ... + \\sigma^2_{e_n}\n",
    "$$\n",
    "\n",
    "Note that we were able to obtain such a simple expression only because of our assumptions. Now, given the paramters of the normal distribution modeling the travel time on a route $R$, the reliability of that route can be formally given as\n",
    "\n",
    "$$\n",
    "Reli(R) = P(T_R \\leq \\tau) = \\Phi(\\frac{\\tau - \\mu_R}{\\sigma^2_R})\n",
    "$$\n",
    "\n",
    "where $\\Phi(t)$ denotes the cumulative distribution function of the standard normal variable. Reliability, which is a probability measure, takes values between 0 and 1. Below is a function to calculate the reliability of a route for a given travel time budget and a quick demonstration of route reliability."
   ]
  },
  {
   "cell_type": "code",
   "execution_count": 108,
   "metadata": {},
   "outputs": [],
   "source": [
    "# function to calculate reliability of a route\n",
    "def calc_reliability(route, time_budget):\n",
    "\n",
    "    edges_nodes = zip(route[:-1], route[1:])\n",
    "    edges_mean = []\n",
    "    edges_var = []\n",
    "    \n",
    "    for pair in edges_nodes:  \n",
    "        edge_data = G.get_edge_data(*pair)\n",
    "        edges_mean.append(edge_data[0]['traveltime_mean'])\n",
    "        edges_var.append(edge_data[0]['traveltime_var'])\n",
    "    \n",
    "    route_mean = np.sum(edges_mean)\n",
    "    route_var = np.sum(edges_var)\n",
    "    \n",
    "    snorm_rv = stats.norm()\n",
    "    reliability = snorm_rv.cdf((time_budget-route_mean)/route_var)\n",
    "    return reliability"
   ]
  },
  {
   "cell_type": "code",
   "execution_count": 115,
   "metadata": {},
   "outputs": [
    {
     "data": {
      "text/plain": [
       "0.5022710401887467"
      ]
     },
     "execution_count": 115,
     "metadata": {},
     "output_type": "execute_result"
    }
   ],
   "source": [
    "# testing reliability\n",
    "\n",
    "route = nx.shortest_path(G, 5428059287, 4470454133)\n",
    "\n",
    "# reliability\n",
    "reliability = calc_reliability(route,354)\n",
    "reliability"
   ]
  }
 ],
 "metadata": {
  "kernelspec": {
   "display_name": "Python 3",
   "language": "python",
   "name": "python3"
  },
  "language_info": {
   "codemirror_mode": {
    "name": "ipython",
    "version": 3
   },
   "file_extension": ".py",
   "mimetype": "text/x-python",
   "name": "python",
   "nbconvert_exporter": "python",
   "pygments_lexer": "ipython3",
   "version": "3.6.10"
  }
 },
 "nbformat": 4,
 "nbformat_minor": 4
}
